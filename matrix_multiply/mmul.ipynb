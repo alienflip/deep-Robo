{
 "cells": [
  {
   "cell_type": "code",
   "execution_count": null,
   "metadata": {},
   "outputs": [],
   "source": [
    "from pynq import (allocate, Overlay)\n",
    "import numpy, random\n",
    "\n",
    "ol = Overlay('design_2.bit')\n",
    "ol.dowload()"
   ]
  },
  {
   "cell_type": "code",
   "execution_count": null,
   "metadata": {},
   "outputs": [],
   "source": [
    "DIM = 128\n",
    "\n",
    "dma0 = ol.axi_dma_0\n",
    "dma1 = ol.axi_dma_1\n",
    "mmult_ip = ol.mmul_0\n",
    "\n",
    "CTRL_REG = 0x00\n",
    "AP_START = (1<<0)\n",
    "AUTO_RESTART = (1<<7)\n",
    "mmult_ip.register_map.k = DIM\n",
    "mmult_ip.register_map.m = DIM\n",
    "mmult_ip.register_map.n = DIM\n",
    "\n",
    "in_buffer0 = allocate(shape=(DIM, DIM), dtype=np.float32, cacheable=False)\n",
    "in_buffer1 = allocate(shape=(DIM, DIM), dtype=np.float32, cacheable=False)\n",
    "out_buffer = allocate(shape=(DIM, DIM), dtype=np.float32, cacheable=False)"
   ]
  },
  {
   "cell_type": "code",
   "execution_count": null,
   "metadata": {},
   "outputs": [],
   "source": [
    "samples0 = np.random.rand(DIM, DIM).astype(dtype=np.float32)\n",
    "samples1 = np.random.rand(DIM, DIM).astype(dtype=np.float32)\n",
    "zeros = numpy.zeros((DIM,DIM), dtype=np.float32)\n",
    "\n",
    "numpy.copyto(in_buffer0, samples0)\n",
    "numpy.copyto(in_buffer1, samples1)\n",
    "numpy.copyto(out_buffer, zeros)"
   ]
  },
  {
   "cell_type": "code",
   "execution_count": null,
   "metadata": {},
   "outputs": [],
   "source": [
    "def run_kernel():\n",
    "    dma0.sendchannel.transfer(in_buffer0)\n",
    "    dma1.sendchannel.transfer(in_buffer1)\n",
    "    dma0.recvchannel.transfer(out_buffer)\n",
    "    mmult_ip.write(CTRL_REG, (AP_START | AUTO_RESTART))\n",
    "    dma0.sendchannel.wait()\n",
    "    dma1.sendchannel.wait()\n",
    "    dma0.recvchannel.wait()"
   ]
  },
  {
   "cell_type": "code",
   "execution_count": null,
   "metadata": {},
   "outputs": [],
   "source": [
    "%%timeit\n",
    "run_kernel()"
   ]
  },
  {
   "cell_type": "code",
   "execution_count": null,
   "metadata": {},
   "outputs": [],
   "source": [
    "%timeit samples0 @ samples1"
   ]
  },
  {
   "cell_type": "code",
   "execution_count": null,
   "metadata": {},
   "outputs": [],
   "source": [
    "np.array_equal(samples0 @ samples1, out_buffer)"
   ]
  }
 ],
 "metadata": {
  "language_info": {
   "name": "python"
  },
  "orig_nbformat": 4
 },
 "nbformat": 4,
 "nbformat_minor": 2
}

{
 "cells": [
  {
   "cell_type": "code",
   "execution_count": null,
   "metadata": {},
   "outputs": [],
   "source": [
    "from pynq import Overlay, allocate\n",
    "import pynq.lib.dma\n",
    "import time, random, numpy\n",
    "\n",
    "ol = Overlay('./design_1.bit')\n",
    "ol.download()\n",
    "\n",
    "CONST0_ADDRESS = 0x10\n",
    "CONST1_ADDRESS = 0x18\n",
    "ip = ol.ssmul_0\n",
    "dma0 = ol.axi_dma_0\n",
    "dma1 = ol.axi_dma_1\n",
    "\n",
    "length = 1000000\n",
    "\n",
    "in_buffer0 = allocate(shape=(length,), dtype=numpy.int32) \n",
    "in_buffer1 = allocate(shape=(length,), dtype=numpy.int32)\n",
    "out_buffer_silicon = allocate(shape=(length,), dtype=numpy.int32) \n",
    "\n",
    "samples0 = random.sample(range(0, length), length)\n",
    "samples1 = random.sample(range(0, length), length)\n",
    "zeros = numpy.zeros((length,), dtype=int)\n",
    "\n",
    "numpy.copyto(in_buffer0, samples0)\n",
    "numpy.copyto(in_buffer1, samples1)\n",
    "numpy.copyto(out_buffer_silicon, zeros)"
   ]
  },
  {
   "cell_type": "markdown",
   "metadata": {},
   "source": [
    "# On Silicon"
   ]
  },
  {
   "cell_type": "code",
   "execution_count": null,
   "metadata": {},
   "outputs": [],
   "source": [
    "ip.write(CONST0_ADDRESS, 1)\n",
    "ip.write(CONST1_ADDRESS, 1)\n",
    "\n",
    "t_start = time.time()\n",
    "dma0.sendchannel.transfer(in_buffer0)\n",
    "dma1.sendchannel.transfer(in_buffer1)\n",
    "dma0.recvchannel.transfer(out_buffer_silicon)\n",
    "dma0.sendchannel.wait()\n",
    "dma1.sendchannel.wait()\n",
    "dma0.recvchannel.wait()\n",
    "t_stop = time.time()\n",
    "\n",
    "in_buffer0.close()\n",
    "in_buffer1.close()\n",
    "out_buffer_silicon.close()\n",
    "\n",
    "print(\"Hardware execution speed: \", t_stop - t_start)"
   ]
  },
  {
   "cell_type": "markdown",
   "metadata": {},
   "source": [
    "# On Software"
   ]
  },
  {
   "cell_type": "code",
   "execution_count": null,
   "metadata": {
    "vscode": {
     "languageId": "plaintext"
    }
   },
   "outputs": [],
   "source": [
    "%time numpy.add(in_buffer0, in_buffer1)"
   ]
  }
 ],
 "metadata": {
  "language_info": {
   "name": "python"
  },
  "orig_nbformat": 4
 },
 "nbformat": 4,
 "nbformat_minor": 2
}
